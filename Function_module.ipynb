{
  "nbformat": 4,
  "nbformat_minor": 0,
  "metadata": {
    "colab": {
      "provenance": []
    },
    "kernelspec": {
      "name": "python3",
      "display_name": "Python 3"
    },
    "language_info": {
      "name": "python"
    }
  },
  "cells": [
    {
      "cell_type": "markdown",
      "source": [
        "**What is function?,explain its uses**\n",
        "\n",
        "A function is a organized,reusable code that performs specific task\n",
        "\n",
        "It is defined using def keyword\n",
        "\n",
        "\n"
      ],
      "metadata": {
        "id": "uh1REt3QQjEq"
      }
    },
    {
      "cell_type": "code",
      "source": [
        "def prime(n):\n",
        "  if n<2:\n",
        "    return False\n",
        "\n",
        "\n",
        "  for i in range(2,int(n**0.5)+1):\n",
        "    if n%i==0:\n",
        "      return False\n",
        "  return True\n",
        "\n",
        "p=[lst for lst in range(200,499)]\n",
        "prime_number=[num for num in p if prime(num)]\n",
        "\n",
        "print(prime_number)"
      ],
      "metadata": {
        "colab": {
          "base_uri": "https://localhost:8080/"
        },
        "id": "-jOskIFVRR-k",
        "outputId": "611569c2-c8b8-4ce6-9ea8-775d4c7baf7c"
      },
      "execution_count": 26,
      "outputs": [
        {
          "output_type": "stream",
          "name": "stdout",
          "text": [
            "[211, 223, 227, 229, 233, 239, 241, 251, 257, 263, 269, 271, 277, 281, 283, 293, 307, 311, 313, 317, 331, 337, 347, 349, 353, 359, 367, 373, 379, 383, 389, 397, 401, 409, 419, 421, 431, 433, 439, 443, 449, 457, 461, 463, 467, 479, 487, 491]\n"
          ]
        }
      ]
    },
    {
      "cell_type": "markdown",
      "source": [
        "**Uses of Function**\n",
        "\n",
        "\n",
        "1.   Modularity\n",
        "2.   Reusablity\n",
        "\n",
        "1.   Recursion\n",
        "2.   Encapsulation\n",
        "\n",
        "\n",
        "\n",
        "\n"
      ],
      "metadata": {
        "id": "4hThQDbaUXrg"
      }
    },
    {
      "cell_type": "markdown",
      "source": [
        "**Types of Functions**\n",
        "\n",
        "**1.Inbuilt function**\n",
        "\n",
        "**2.User Defined function**"
      ],
      "metadata": {
        "id": "ubFgaqPIUtjL"
      }
    },
    {
      "cell_type": "markdown",
      "source": [
        "**What is Class**\n",
        "\n",
        "Class is a template or a blueprint for creating an objects\n",
        "\n",
        "it defines structure that help organize data and functions together\n",
        "\n",
        "**Uses of Functions**\n",
        "\n",
        "1.Code Reusability\n",
        "\n",
        "2.Bundling of functions and data together\n",
        "\n"
      ],
      "metadata": {
        "id": "HaZNknPjVU2J"
      }
    },
    {
      "cell_type": "markdown",
      "source": [
        "**Example of a class**"
      ],
      "metadata": {
        "id": "4E1cn2pDWH4M"
      }
    },
    {
      "cell_type": "code",
      "source": [
        "class Car:\n",
        "  name=\"BMW\"\n",
        "  speed=200\n",
        "\n",
        "#creating the object\n",
        "p1=Car()\n",
        "print(\"the car model is \",p1.name)\n",
        "print(\"the max speed is :\",p1.speed)\n"
      ],
      "metadata": {
        "colab": {
          "base_uri": "https://localhost:8080/"
        },
        "id": "axJeLvfjVRlE",
        "outputId": "478a33f4-f1c6-44ed-bd11-e0e31bc82d8c"
      },
      "execution_count": 36,
      "outputs": [
        {
          "output_type": "stream",
          "name": "stdout",
          "text": [
            "the car model is  BMW\n",
            "the max speed is : 200\n"
          ]
        }
      ]
    },
    {
      "cell_type": "markdown",
      "source": [
        "**What is Object**\n",
        "\n",
        "An object is an instance of a class.A class is like a blueprint or template and object is instance of the class\n",
        "\n",
        "Object consists of:\n",
        "\n",
        "**1.state:**It is represented by attributes of a function\n",
        "\n",
        "**2.behaviour:** It is represented by the methods of an object\n",
        "\n",
        "**3.Identity:** It gives an unique name to an object and helps to interact with other objects\n",
        "\n"
      ],
      "metadata": {
        "id": "xi1gUXw0W7i5"
      }
    },
    {
      "cell_type": "code",
      "source": [
        "#Exaple of class and Object\n",
        "\n",
        "class Vehicle:\n",
        "\n",
        "  def __init__(self,name,speed): #attributes\n",
        "    print(\"Welcome to the carbazaar\")\n",
        "    self.name=name\n",
        "    self.speed=speed\n",
        "\n",
        "\n",
        "  def colour(self): #methods=functions defined inside the class\n",
        "    print(\"the colour of the car is  black\")\n",
        "\n",
        "#Creating the Object\n",
        "Car=Vehicle(\"BMW\",250)\n",
        "print(Car.name)\n",
        "print(Car.speed)\n",
        "Car.colour()\n",
        "\n"
      ],
      "metadata": {
        "colab": {
          "base_uri": "https://localhost:8080/"
        },
        "id": "Qy00V8BvWLi8",
        "outputId": "55c10e96-4e18-4a4f-dd2d-efe7c3f90558"
      },
      "execution_count": 47,
      "outputs": [
        {
          "output_type": "stream",
          "name": "stdout",
          "text": [
            "Welcome to the carbazaar\n",
            "BMW\n",
            "250\n",
            "the colour of the car is  black\n"
          ]
        }
      ]
    },
    {
      "cell_type": "markdown",
      "source": [
        "**Inheritance**\n",
        "\n",
        "Inheritance is the method that allows new class(derived class) to inherit attributes and methods of already created class(base class)\n",
        "\n",
        "The class which inherits is called as child class\n",
        "\n",
        "The class from which the inheritance has taken place is called as parent class"
      ],
      "metadata": {
        "id": "GcY8uMd9ZnzM"
      }
    },
    {
      "cell_type": "code",
      "source": [
        "class Parent:\n",
        "  def __init__(self,name,age):\n",
        "    self.name=name\n",
        "    self.age=age\n",
        "\n",
        "  def details(self):\n",
        "    print(self.age)\n",
        "    print(self.name)\n",
        "\n",
        "#Creating a Child Class\n",
        "class child(Parent):\n",
        "  print(\"the child class is created\")\n",
        "\n",
        "#creating the object\n",
        "p1=child(\"Asif\",24)\n",
        "print(p1.name)\n",
        "print(p1.age)\n",
        "\n"
      ],
      "metadata": {
        "colab": {
          "base_uri": "https://localhost:8080/"
        },
        "id": "RxwlOuBmYMio",
        "outputId": "31904c9f-fc75-4ac4-ed73-930442fae4f7"
      },
      "execution_count": 5,
      "outputs": [
        {
          "output_type": "stream",
          "name": "stdout",
          "text": [
            "the child class is created\n",
            "Asif\n",
            "24\n"
          ]
        }
      ]
    },
    {
      "cell_type": "markdown",
      "source": [
        "**Write a Python program to create a class representing a Circle. Include methods to calculate its area and perimeter.**"
      ],
      "metadata": {
        "id": "kS8ihLQq6Qbo"
      }
    },
    {
      "cell_type": "code",
      "source": [
        "import math\n",
        "\n",
        "class Circle:\n",
        "  def __init__(self,radius): #attributes\n",
        "    self.radius=radius\n",
        "\n",
        "  def area(self):      #method1\n",
        "    return math.pi*self.radius**2\n",
        "\n",
        "  def circumference(self): #method2\n",
        "    return 2*math.pi*self.radius\n",
        "\n",
        "#creating object\n",
        "c1=Circle(4)\n",
        "print(c1.area())\n",
        "print(c1.circumference())\n",
        "\n",
        "\n"
      ],
      "metadata": {
        "colab": {
          "base_uri": "https://localhost:8080/"
        },
        "id": "7GRsZZVR48wA",
        "outputId": "70abc2b4-5078-4b1c-9f4a-7182e0ab8e2c"
      },
      "execution_count": 15,
      "outputs": [
        {
          "output_type": "stream",
          "name": "stdout",
          "text": [
            "50.26548245743669\n",
            "25.132741228718345\n"
          ]
        }
      ]
    },
    {
      "cell_type": "markdown",
      "source": [
        "**Write a Python program to create a person class. Include attributes like name, country and date of birth. Implement a method to determine the person's age**"
      ],
      "metadata": {
        "id": "JymAUAPx8kTi"
      }
    },
    {
      "cell_type": "code",
      "source": [
        "from datetime import date\n",
        "\n",
        "class person:\n",
        "  def __init__(self,name,country,dob):\n",
        "    self.name=name\n",
        "    self.country=country\n",
        "    self.dob=dob\n",
        "\n",
        "  def age_of_person(self):\n",
        "    today=date.today()\n",
        "    age=today.year-self.dob.year-((today.month,today.day)<(self.dob.month,self.dob.day))\n",
        "    return age\n",
        "\n",
        "#creating the object\n",
        "p1=person(\"Asif\",\"India\",date(2001,5,5))\n",
        "print(\"the age of a person is\",p1.age_of_person())"
      ],
      "metadata": {
        "colab": {
          "base_uri": "https://localhost:8080/"
        },
        "id": "qq6DgONW6mG7",
        "outputId": "62c09591-a363-4fc5-9440-34f5f6f2dc09"
      },
      "execution_count": 28,
      "outputs": [
        {
          "output_type": "stream",
          "name": "stdout",
          "text": [
            "the age of a person is 23\n"
          ]
        }
      ]
    },
    {
      "cell_type": "markdown",
      "source": [
        "**Write a Python program to create a calculator class. Include methods for basic arithmetic operations.**"
      ],
      "metadata": {
        "id": "_10YfDZTApZ_"
      }
    },
    {
      "cell_type": "code",
      "source": [
        "class Calculator:\n",
        "  def __init__(self,num1,num2):\n",
        "    self.num1=num1\n",
        "    self.num2=num2\n",
        "\n",
        "  def add(self):\n",
        "    return self.num1+self.num2\n",
        "\n",
        "  def substract(self):\n",
        "    return self.num1-self.num2\n",
        "\n",
        "  def multiply(self):\n",
        "    return self.num1*self.num2\n",
        "\n",
        "  def division(self):\n",
        "    return int(self.num1/self.num2)\n",
        "\n",
        "#creating an object\n",
        "calc=Calculator(2,2)\n",
        "print(calc.add())\n",
        "print(calc.substract())\n",
        "print(calc.multiply())\n",
        "print(calc.division())\n"
      ],
      "metadata": {
        "colab": {
          "base_uri": "https://localhost:8080/"
        },
        "id": "Z8twz-x59AMN",
        "outputId": "fbf64413-801f-4855-92f5-e0b0b84fe392"
      },
      "execution_count": 36,
      "outputs": [
        {
          "output_type": "stream",
          "name": "stdout",
          "text": [
            "4\n",
            "0\n",
            "4\n",
            "1\n"
          ]
        }
      ]
    },
    {
      "cell_type": "markdown",
      "source": [
        "**Write a Python program to create a class that represents a shape. Include methods to calculate its area and perimeter. Implement subclasses for different shapes like circle, triangle, and square.**"
      ],
      "metadata": {
        "id": "HdQvxewrDXPT"
      }
    },
    {
      "cell_type": "code",
      "source": [
        "import math\n",
        "class shape:\n",
        "  def area(self):\n",
        "    pass            #pass,to be calculated in derived class of circle,triangle,square\n",
        "\n",
        "  def perimeter(self):\n",
        "    pass\n",
        "\n",
        "\n",
        "class Circle(shape):\n",
        "  def __init__(self,radius):\n",
        "    self.radius=radius\n",
        "\n",
        "  def area(self):\n",
        "    return math.pi*self.radius**2\n",
        "\n",
        "  def perimeter(self):\n",
        "    return 2*math.pi*self.radius\n",
        "\n",
        "class Rectangle(shape):\n",
        "  def __init__(self,l,w): #passing the length and width\n",
        "    self.l=l\n",
        "    self.w=w\n",
        "\n",
        "  #creating method to calculate the area and perimeter\n",
        "  def area(self):\n",
        "    return self.l*self.w\n",
        "\n",
        "  #perimeter\n",
        "  def perimeter(self):\n",
        "    return self.l+self.w\n",
        "\n",
        "\n",
        "'''class Circle(shape):\n",
        "  def __init__(self,radius):\n",
        "    self.radius=radius\n",
        "\n",
        "  #creating object to calculate the area and circumference of the circle\n",
        "\n",
        "  def area(self):\n",
        "    return math.pi*self.radius**2\n",
        "\n",
        "  def perimeter(self):\n",
        "    return 2*math.pi*self.radius'''\n",
        "\n",
        "\n",
        "#creating the objects for Circle\n",
        "c1=Circle(7)\n",
        "print(\"The area of the circle is:\",c1.area())\n",
        "print(\"The perimeter of the circle is:\",c1.perimeter())\n",
        "\n",
        "print(50*\"_\")\n",
        "#creating the objects for rectangle\n",
        "r1=Rectangle(2,4)\n",
        "print(\"The area of the rectangle is:\",r1.area())\n",
        "print(\"The perimeter of the rectangle is:\",r1.perimeter())\n",
        "\n"
      ],
      "metadata": {
        "colab": {
          "base_uri": "https://localhost:8080/"
        },
        "id": "-4GJUO_5BksF",
        "outputId": "80d2f169-a0b0-44f6-8a1e-69810119845b"
      },
      "execution_count": 49,
      "outputs": [
        {
          "output_type": "stream",
          "name": "stdout",
          "text": [
            "The area of the circle is: 153.93804002589985\n",
            "The perimeter of the circle is: 43.982297150257104\n",
            "__________________________________________________\n",
            "The area of the rectangle is: 8\n",
            "The perimeter of the rectangle is: 6\n"
          ]
        }
      ]
    }
  ]
}