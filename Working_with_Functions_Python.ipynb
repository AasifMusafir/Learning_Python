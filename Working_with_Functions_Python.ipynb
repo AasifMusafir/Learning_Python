{
  "nbformat": 4,
  "nbformat_minor": 0,
  "metadata": {
    "colab": {
      "provenance": []
    },
    "kernelspec": {
      "name": "python3",
      "display_name": "Python 3"
    },
    "language_info": {
      "name": "python"
    }
  },
  "cells": [
    {
      "cell_type": "markdown",
      "source": [
        "Defining the Function"
      ],
      "metadata": {
        "id": "wrkxLCay8LhG"
      }
    },
    {
      "cell_type": "code",
      "execution_count": null,
      "metadata": {
        "colab": {
          "base_uri": "https://localhost:8080/"
        },
        "id": "pImijEb34hZp",
        "outputId": "243ae6f4-062a-4700-d4cb-444ee8168c6e"
      },
      "outputs": [
        {
          "output_type": "stream",
          "name": "stdout",
          "text": [
            "hello\n"
          ]
        }
      ],
      "source": [
        "def greet():\n",
        "  print(\"hello\")\n",
        "greet()"
      ]
    },
    {
      "cell_type": "code",
      "source": [
        "def greet():\n",
        "    print(\"hello\")\n",
        "\n",
        "# This will print \"hello\" 10 times and avoid infinite recursion\n",
        "[greet() for i in range(10)]\n"
      ],
      "metadata": {
        "colab": {
          "base_uri": "https://localhost:8080/"
        },
        "id": "EVvzUB-h51F7",
        "outputId": "4b34d7b6-9cda-40d9-b00f-236cd4111466"
      },
      "execution_count": null,
      "outputs": [
        {
          "output_type": "stream",
          "name": "stdout",
          "text": [
            "hello\n",
            "hello\n",
            "hello\n",
            "hello\n",
            "hello\n",
            "hello\n",
            "hello\n",
            "hello\n",
            "hello\n",
            "hello\n"
          ]
        },
        {
          "output_type": "execute_result",
          "data": {
            "text/plain": [
              "[None, None, None, None, None, None, None, None, None, None]"
            ]
          },
          "metadata": {},
          "execution_count": 15
        }
      ]
    },
    {
      "cell_type": "markdown",
      "source": [
        "Global and Local Variable"
      ],
      "metadata": {
        "id": "7H9sJps78GRc"
      }
    },
    {
      "cell_type": "code",
      "source": [
        "g=10\n",
        "def scope():\n",
        "  l=5\n",
        "\n",
        "  print(g,l)\n",
        "\n",
        "scope()"
      ],
      "metadata": {
        "colab": {
          "base_uri": "https://localhost:8080/"
        },
        "id": "JFVhyusm69ks",
        "outputId": "858b68b9-6760-41ee-ff1c-dd3072fe923c"
      },
      "execution_count": null,
      "outputs": [
        {
          "output_type": "stream",
          "name": "stdout",
          "text": [
            "10 5\n"
          ]
        }
      ]
    },
    {
      "cell_type": "markdown",
      "source": [
        "Passing the parameter in a function"
      ],
      "metadata": {
        "id": "sLDeaxCQlJDT"
      }
    },
    {
      "cell_type": "code",
      "source": [
        "def greeting(n):\n",
        "  print(\"Hello\",n)\n",
        "\n",
        "greeting(\"Asif\")"
      ],
      "metadata": {
        "colab": {
          "base_uri": "https://localhost:8080/"
        },
        "id": "Eicd3xscj25_",
        "outputId": "eff0fbb5-e4f7-4e62-e9a9-facdcf830107"
      },
      "execution_count": null,
      "outputs": [
        {
          "output_type": "stream",
          "name": "stdout",
          "text": [
            "Hello Asif\n"
          ]
        }
      ]
    },
    {
      "cell_type": "markdown",
      "source": [
        "Passing the parameter 2nd method"
      ],
      "metadata": {
        "id": "oLs0D-n6mS89"
      }
    },
    {
      "cell_type": "code",
      "source": [
        "def Welcome(name):\n",
        "  print(\"welcome\",name)\n",
        "\n",
        "Welcome(name=\"Asif\")"
      ],
      "metadata": {
        "colab": {
          "base_uri": "https://localhost:8080/"
        },
        "id": "vZiyuPhblOJQ",
        "outputId": "f18791af-ca07-4933-e02c-a8e70029a462"
      },
      "execution_count": null,
      "outputs": [
        {
          "output_type": "stream",
          "name": "stdout",
          "text": [
            "welcome Asif\n"
          ]
        }
      ]
    },
    {
      "cell_type": "markdown",
      "source": [
        "Passing the parameter 3rd methid"
      ],
      "metadata": {
        "id": "tbo_wXfInIsU"
      }
    },
    {
      "cell_type": "code",
      "source": [
        "def greet(n=\"ABC\"):\n",
        "  print(\"hello\",n)\n",
        "\n",
        "greet()"
      ],
      "metadata": {
        "colab": {
          "base_uri": "https://localhost:8080/"
        },
        "id": "ImXTaTd9miqS",
        "outputId": "73eb6a9b-9807-4a9a-f533-3d1c11b0bee1"
      },
      "execution_count": null,
      "outputs": [
        {
          "output_type": "stream",
          "name": "stdout",
          "text": [
            "hello ABC\n"
          ]
        }
      ]
    },
    {
      "cell_type": "markdown",
      "source": [
        "Example of passing two parameters in a function and performing Operation"
      ],
      "metadata": {
        "id": "sdrgsY7ooKFB"
      }
    },
    {
      "cell_type": "code",
      "source": [
        "def sum(a,b):\n",
        "  print(a,\"+\",b,\"=\",a+b)\n",
        "\n",
        "sum(2,4)"
      ],
      "metadata": {
        "colab": {
          "base_uri": "https://localhost:8080/"
        },
        "id": "BIu8U2ntnToh",
        "outputId": "e6eb789c-2fe6-4c3e-daba-f46ac319585f"
      },
      "execution_count": null,
      "outputs": [
        {
          "output_type": "stream",
          "name": "stdout",
          "text": [
            "2 + 4 = 6\n"
          ]
        }
      ]
    },
    {
      "cell_type": "markdown",
      "source": [
        "Using return in a function"
      ],
      "metadata": {
        "id": "zJvICceJqtzD"
      }
    },
    {
      "cell_type": "code",
      "source": [
        "def sum(a,b):\n",
        "  return a+b\n",
        "\n",
        "s=sum(2,4)\n",
        "print(s)"
      ],
      "metadata": {
        "colab": {
          "base_uri": "https://localhost:8080/"
        },
        "id": "l6pnY896oY-c",
        "outputId": "048824eb-8eee-4a3e-8718-531722ee2d2a"
      },
      "execution_count": null,
      "outputs": [
        {
          "output_type": "stream",
          "name": "stdout",
          "text": [
            "6\n"
          ]
        }
      ]
    },
    {
      "cell_type": "markdown",
      "source": [
        "Returning Multiple Operations"
      ],
      "metadata": {
        "id": "-IzWu2ePrkAP"
      }
    },
    {
      "cell_type": "code",
      "source": [
        "def subm(a,b):\n",
        "  return a+b,a-b,a*b\n",
        "\n",
        "s=subm(5,10)\n",
        "print(s)\n",
        "print(type(s))"
      ],
      "metadata": {
        "colab": {
          "base_uri": "https://localhost:8080/"
        },
        "id": "DTO6Yi3Pq7Ik",
        "outputId": "18ea3c56-0810-4bac-ed14-0dd55081393d"
      },
      "execution_count": null,
      "outputs": [
        {
          "output_type": "stream",
          "name": "stdout",
          "text": [
            "(15, -5, 50)\n",
            "<class 'tuple'>\n"
          ]
        }
      ]
    },
    {
      "cell_type": "markdown",
      "source": [
        "Returning the direct value instead of tuple"
      ],
      "metadata": {
        "id": "F1XwXYfQsg4s"
      }
    },
    {
      "cell_type": "code",
      "source": [
        "def arithmetic(a,b):\n",
        "  return a+b,a-b,a*b\n",
        "\n",
        "addition,substraction,multiplication=arithmetic(5,10)\n",
        "\n",
        "print(addition,substraction,multiplication)"
      ],
      "metadata": {
        "colab": {
          "base_uri": "https://localhost:8080/"
        },
        "id": "cXs3edkmr1be",
        "outputId": "5388d6f7-6322-48be-af7b-449db392639d"
      },
      "execution_count": null,
      "outputs": [
        {
          "output_type": "stream",
          "name": "stdout",
          "text": [
            "15 -5 50\n"
          ]
        }
      ]
    },
    {
      "cell_type": "markdown",
      "source": [
        "Defining Multiple Functions to perform the Operations"
      ],
      "metadata": {
        "id": "WgVeDiIUufYq"
      }
    },
    {
      "cell_type": "code",
      "source": [
        "lst=[1,2,3,4,5,6]\n",
        "\n",
        "def sqr_lst(lst):\n",
        "  return [i**2 for i in lst]\n",
        "\n",
        "def cube_lst(lst):\n",
        "  return [i**3 for i in lst]\n",
        "\n",
        "l_1=sqr_lst(lst)\n",
        "l_2=cube_lst(lst)\n",
        "\n",
        "print(l_1,l_2)\n",
        "\n",
        "def sum(lst):\n",
        "  return [l_1[i]+l_2[i] for i in range(len(lst))]\n",
        "\n",
        "print(sum(lst))"
      ],
      "metadata": {
        "colab": {
          "base_uri": "https://localhost:8080/"
        },
        "id": "PXm6__Rfs80T",
        "outputId": "4062c40a-8e9d-4b03-f9c5-7a962e9f61d1"
      },
      "execution_count": null,
      "outputs": [
        {
          "output_type": "stream",
          "name": "stdout",
          "text": [
            "[1, 4, 9, 16, 25, 36] [1, 8, 27, 64, 125, 216]\n",
            "[2, 12, 36, 80, 150, 252]\n"
          ]
        }
      ]
    },
    {
      "cell_type": "code",
      "source": [
        "lst=[1,2,3,4,5,6]\n",
        "\n",
        "def sqr_lst(lst):\n",
        "  return [i**2 for i in lst]\n",
        "\n",
        "def cube_lst(lst):\n",
        "  return [i**3 for i in lst]\n",
        "\n",
        "\n",
        "def sum(lst):\n",
        "  l_1=sqr_lst(lst)\n",
        "  l_2=cube_lst(lst)\n",
        "  return [l_1[i]+l_2[i] for i in range(len(lst))]\n",
        "\n",
        "print(sum(lst))"
      ],
      "metadata": {
        "id": "SuDOh5MlvBRu",
        "colab": {
          "base_uri": "https://localhost:8080/"
        },
        "outputId": "bf7f16b1-76bd-4744-9f90-afbe3c65b9ba"
      },
      "execution_count": null,
      "outputs": [
        {
          "output_type": "stream",
          "name": "stdout",
          "text": [
            "[2, 12, 36, 80, 150, 252]\n"
          ]
        }
      ]
    },
    {
      "cell_type": "code",
      "source": [],
      "metadata": {
        "id": "5uHSipgTzUJV"
      },
      "execution_count": null,
      "outputs": []
    }
  ]
}