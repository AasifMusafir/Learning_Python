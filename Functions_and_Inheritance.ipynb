{
  "nbformat": 4,
  "nbformat_minor": 0,
  "metadata": {
    "colab": {
      "provenance": []
    },
    "kernelspec": {
      "name": "python3",
      "display_name": "Python 3"
    },
    "language_info": {
      "name": "python"
    }
  },
  "cells": [
    {
      "cell_type": "code",
      "execution_count": 4,
      "metadata": {
        "colab": {
          "base_uri": "https://localhost:8080/"
        },
        "id": "Jouj6Yluk_6V",
        "outputId": "a570c01e-840d-4730-f02f-693ea0f3c3a4"
      },
      "outputs": [
        {
          "output_type": "stream",
          "name": "stdout",
          "text": [
            "asif\n",
            "24\n",
            "______________________________\n",
            "XYZ\n",
            "25\n"
          ]
        }
      ],
      "source": [
        "class person():\n",
        "  age=24\n",
        "  name=\"asif\"\n",
        "\n",
        "p1=person()\n",
        "print(p1.name)\n",
        "print(p1.age)\n",
        "\n",
        "print(\"_\"*30)\n",
        "p1.name=\"XYZ\"\n",
        "p1.age=25\n",
        "\n",
        "print(p1.name)\n",
        "print(p1.age)"
      ]
    },
    {
      "cell_type": "code",
      "source": [
        "class mathematics:\n",
        "  name=\"asif\"\n",
        "\n",
        "\n",
        "  def greet(self):\n",
        "    print(\"hello\")\n",
        "    return \"Hi\"\n",
        "\n",
        "math=mathematics()\n",
        "print(math.greet())\n",
        "print(math.name)"
      ],
      "metadata": {
        "colab": {
          "base_uri": "https://localhost:8080/"
        },
        "id": "NNe4WVUnlmvH",
        "outputId": "f6a5f167-cc21-4e31-f6eb-ee8df35b8049"
      },
      "execution_count": 17,
      "outputs": [
        {
          "output_type": "stream",
          "name": "stdout",
          "text": [
            "hello\n",
            "Hi\n",
            "asif\n"
          ]
        }
      ]
    },
    {
      "cell_type": "markdown",
      "source": [
        "Find the Factorial"
      ],
      "metadata": {
        "id": "PqINX1yTqhHa"
      }
    },
    {
      "cell_type": "code",
      "source": [
        "def fact(n):\n",
        "w  s=1\n",
        "  for i in range(1,n+1):\n",
        "    s*=i\n",
        "  return s\n",
        "factorial=fact(5)\n",
        "print(factorial)"
      ],
      "metadata": {
        "colab": {
          "base_uri": "https://localhost:8080/"
        },
        "id": "ZYVLFg9RnxGj",
        "outputId": "2277b0bb-9d14-43c8-f540-adb73aa91efe"
      },
      "execution_count": 34,
      "outputs": [
        {
          "output_type": "stream",
          "name": "stdout",
          "text": [
            "120\n"
          ]
        }
      ]
    },
    {
      "cell_type": "code",
      "source": [
        "class math():\n",
        "\n",
        "  def fact(self,n):\n",
        "    s=1\n",
        "    for i in range(1,n+1):\n",
        "      s*=i\n",
        "\n",
        "    return s\n",
        "\n",
        "math_instance=math()\n",
        "\n",
        "print(math_instance.fact(5))\n"
      ],
      "metadata": {
        "colab": {
          "base_uri": "https://localhost:8080/"
        },
        "id": "EewUMbn5tdab",
        "outputId": "1020e677-b0f9-47b0-e986-7e0913d4b9f2"
      },
      "execution_count": 47,
      "outputs": [
        {
          "output_type": "stream",
          "name": "stdout",
          "text": [
            "120\n"
          ]
        }
      ]
    },
    {
      "cell_type": "code",
      "source": [
        "class person():\n",
        "  def __init__(self,name,age):\n",
        "    print(name)\n",
        "    print(age)\n",
        "\n",
        "  def run(self):\n",
        "    print(name)\n",
        "    print(\"run\")\n",
        "\n",
        "p1=person(\"Asif\",23)\n",
        "p2=person(\"Kohli\",36)\n",
        "p3=person(\"Jack\",21)"
      ],
      "metadata": {
        "colab": {
          "base_uri": "https://localhost:8080/"
        },
        "id": "sDcuGbdJuD41",
        "outputId": "bcd0a889-0006-4af9-bd62-83afcaac3fea"
      },
      "execution_count": 52,
      "outputs": [
        {
          "output_type": "stream",
          "name": "stdout",
          "text": [
            "Asif\n",
            "23\n",
            "Kohli\n",
            "36\n",
            "Jack\n",
            "21\n"
          ]
        }
      ]
    },
    {
      "cell_type": "code",
      "source": [
        "class Calculation:\n",
        "  def __init__(self,x,y):\n",
        "    print(self.x,self.y)\n",
        "\n",
        "  def add(self):\n",
        "    print()"
      ],
      "metadata": {
        "id": "V9v1Tn9mFI8J"
      },
      "execution_count": 53,
      "outputs": []
    },
    {
      "cell_type": "code",
      "source": [
        "# Let us consider a simple Adder with 2 operands\n",
        "class Adder:\n",
        "    # data attributes\n",
        "    def __init__(self, x, y):\n",
        "        self.operand1 = x\n",
        "        self.operand2 = y\n",
        "\n",
        "    # method (allied functionality)\n",
        "    def add(self):\n",
        "        return self.operand1 + self.operand2"
      ],
      "metadata": {
        "id": "W0jlWUOmLOHx"
      },
      "execution_count": 54,
      "outputs": []
    },
    {
      "cell_type": "code",
      "source": [
        "class Greet:\n",
        "    def Hello(name):\n",
        "        print(\"Hello\", name)\n",
        "g = Greet\n",
        "h = Greet\n",
        "i = Greet\n",
        "\n",
        "g.Hello(\"bob\")\n",
        "h.Hello(\"john\")\n",
        "i.Hello(\"ryan\")"
      ],
      "metadata": {
        "colab": {
          "base_uri": "https://localhost:8080/"
        },
        "id": "IHMvIIxdTK3_",
        "outputId": "76de6483-db4e-4417-b9be-a16feb8428bc"
      },
      "execution_count": 55,
      "outputs": [
        {
          "output_type": "stream",
          "name": "stdout",
          "text": [
            "Hello bob\n",
            "Hello john\n",
            "Hello ryan\n"
          ]
        }
      ]
    },
    {
      "cell_type": "code",
      "source": [
        "class fruit:\n",
        "  def Hello(name):\n",
        "    print(\"hello\",name)\n",
        "\n",
        "g=Greet\n",
        "h=Greet\n",
        "i=Greet\n",
        "g.hello"
      ],
      "metadata": {
        "id": "CWNSXJm-TPvf"
      },
      "execution_count": null,
      "outputs": []
    },
    {
      "cell_type": "code",
      "source": [
        "class Agent:\n",
        "  def __init__(self,name,age):\n",
        "    self.name=name\n",
        "    self.age=age\n",
        "    self.health=100\n",
        "    self.alive=True\n",
        "\n",
        "  def health(self):\n",
        "    print(\"the health of player is\",self.health)\n",
        "\n",
        "  def punched(self):\n",
        "    self.health-=100\n",
        "\n",
        "  def info(self):\n",
        "    print(\"Name:\",self.name)\n",
        "    print(\"Age:\",self.age)\n",
        "    print(\"Health\",self.health)\n",
        "    print(\"Alive_status:\",self.alive)\n",
        "\n",
        "\n",
        "class Player(Agent):\n",
        "  def blow_fire(self):\n",
        "    print(\"Blow Fire\")\n",
        "\n",
        "#creating an Object woth Player Class\n",
        "bs=Player(\"Asif\",24)\n",
        "bs.info()\n",
        "bs.blow_fire"
      ],
      "metadata": {
        "colab": {
          "base_uri": "https://localhost:8080/",
          "height": 174
        },
        "id": "gLQnFPAdx9pl",
        "outputId": "4231e87c-f621-45cf-d881-0d25798c3cde"
      },
      "execution_count": 7,
      "outputs": [
        {
          "output_type": "stream",
          "name": "stdout",
          "text": [
            "Name: Asif\n",
            "Age: 24\n",
            "Health 100\n",
            "Alive_status: True\n"
          ]
        },
        {
          "output_type": "execute_result",
          "data": {
            "text/plain": [
              "<bound method Player.blow_fire of <__main__.Player object at 0x7eb97e16f310>>"
            ],
            "text/html": [
              "<div style=\"max-width:800px; border: 1px solid var(--colab-border-color);\"><style>\n",
              "      pre.function-repr-contents {\n",
              "        overflow-x: auto;\n",
              "        padding: 8px 12px;\n",
              "        max-height: 500px;\n",
              "      }\n",
              "\n",
              "      pre.function-repr-contents.function-repr-contents-collapsed {\n",
              "        cursor: pointer;\n",
              "        max-height: 100px;\n",
              "      }\n",
              "    </style>\n",
              "    <pre style=\"white-space: initial; background:\n",
              "         var(--colab-secondary-surface-color); padding: 8px 12px;\n",
              "         border-bottom: 1px solid var(--colab-border-color);\"><b>Player.blow_fire</b><br/>def blow_fire()</pre><pre class=\"function-repr-contents function-repr-contents-collapsed\" style=\"\"><a class=\"filepath\" style=\"display:none\" href=\"#\">/content/&lt;ipython-input-7-1c0f37005a8d&gt;</a>&lt;no docstring&gt;</pre></div>"
            ]
          },
          "metadata": {},
          "execution_count": 7
        }
      ]
    },
    {
      "cell_type": "code",
      "source": [
        "class Greet:\n",
        "    def Hello(name):\n",
        "        print(\"Hello\", name)\n",
        "g = Greet\n",
        "h = Greet\n",
        "i = Greet\n",
        "\n",
        "g.Hello(\"bob\")\n",
        "g.Hello(\"john\")\n",
        "i.Hello(\"ryan\")"
      ],
      "metadata": {
        "colab": {
          "base_uri": "https://localhost:8080/"
        },
        "id": "eG7R89D1yshk",
        "outputId": "446824b9-fa02-44db-e72c-baecc9a3ebc4"
      },
      "execution_count": 1,
      "outputs": [
        {
          "output_type": "stream",
          "name": "stdout",
          "text": [
            "Hello bob\n",
            "Hello john\n",
            "Hello ryan\n"
          ]
        }
      ]
    },
    {
      "cell_type": "code",
      "source": [
        "class wish():\n",
        "  def __init__(self,name):\n",
        "    print(\"good morning\",name)\n",
        "\n",
        "a=wish(\"Bob\")\n",
        "\n"
      ],
      "metadata": {
        "colab": {
          "base_uri": "https://localhost:8080/"
        },
        "id": "ibjOICFSu2_l",
        "outputId": "c184fc96-8620-4f1f-bce4-2d59916a8ea1"
      },
      "execution_count": 2,
      "outputs": [
        {
          "output_type": "stream",
          "name": "stdout",
          "text": [
            "good morning Bob\n"
          ]
        }
      ]
    },
    {
      "cell_type": "code",
      "source": [
        "class student():\n",
        "  \"this is a simple example\"\n",
        "  def __init__(self,name,age,grade):\n",
        "    self.name=name\n",
        "    self.age=age\n",
        "    self.grade=grade\n",
        "\n",
        "s1=student(\"Asif\",23,90)\n",
        "s2=student(\"Bob\",23,87)\n",
        "s3=student(\"Jack\",23,78)\n",
        "\n",
        "print(s1.name)\n",
        "print(s2.age)\n",
        "print(s3.grade)\n"
      ],
      "metadata": {
        "colab": {
          "base_uri": "https://localhost:8080/"
        },
        "id": "0yMDp25-vr1K",
        "outputId": "168fe284-ee99-4ad1-8cb1-fab1bafdee6b"
      },
      "execution_count": 12,
      "outputs": [
        {
          "output_type": "stream",
          "name": "stdout",
          "text": [
            "Asif\n",
            "23\n",
            "78\n"
          ]
        }
      ]
    },
    {
      "cell_type": "code",
      "source": [
        "print(s2.__doc__)"
      ],
      "metadata": {
        "colab": {
          "base_uri": "https://localhost:8080/"
        },
        "id": "l0WRjyVCwovf",
        "outputId": "a192ac0c-6fca-427b-a462-0dcbfa449dab"
      },
      "execution_count": 13,
      "outputs": [
        {
          "output_type": "stream",
          "name": "stdout",
          "text": [
            "this is a simple example\n"
          ]
        }
      ]
    },
    {
      "cell_type": "markdown",
      "source": [
        "**What is Self?**\n",
        "\n",
        "**Self**\n",
        "\n",
        "Self variable is the reference to current instance of the class,It is used to access variables of the particular instance"
      ],
      "metadata": {
        "id": "FenXC0elyPyE"
      }
    },
    {
      "cell_type": "code",
      "source": [
        "class wish:\n",
        "  def __init__(self,name):\n",
        "    print(self)\n",
        "    print(\"good morning\",name)\n",
        "    print()\n",
        "\n",
        "a=wish(\"Kiran\")\n",
        "b=wish(\"bob\")\n",
        "c=wish(\"Jack\")\n"
      ],
      "metadata": {
        "colab": {
          "base_uri": "https://localhost:8080/"
        },
        "id": "sGt4oyooxQ_m",
        "outputId": "b3e81731-13ca-4044-e721-a9623a0bceb6"
      },
      "execution_count": 30,
      "outputs": [
        {
          "output_type": "stream",
          "name": "stdout",
          "text": [
            "<__main__.wish object at 0x7e3cfd817490>\n",
            "good morning Kiran\n",
            "\n",
            "<__main__.wish object at 0x7e3d085bf0d0>\n",
            "good morning bob\n",
            "\n",
            "<__main__.wish object at 0x7e3cfd814cd0>\n",
            "good morning Jack\n",
            "\n"
          ]
        }
      ]
    },
    {
      "cell_type": "code",
      "source": [
        "class Wish:\n",
        "    def __init__(self, name):\n",
        "        print(self) # <------ <__main__.Wish object at 0x0000xxxxxxxxxxx>\n",
        "        print(\"Good Morning\", name)\n",
        "        print()\n",
        "\n",
        "a = Wish(\"kiran\") # memory location of object a\n",
        "b = Wish(\"Akash\") # memory location of object b\n",
        "c = Wish(\"geeta\") # memory location of object c"
      ],
      "metadata": {
        "colab": {
          "base_uri": "https://localhost:8080/"
        },
        "id": "OxP9GkaNzYJv",
        "outputId": "14d5c4cc-b50d-4f35-87bf-cc9024a039d8"
      },
      "execution_count": 25,
      "outputs": [
        {
          "output_type": "stream",
          "name": "stdout",
          "text": [
            "<__main__.Wish object at 0x7e3cfd80f610>\n",
            "Good Morning kiran\n",
            "\n",
            "<__main__.Wish object at 0x7e3cfd80d0d0>\n",
            "Good Morning Akash\n",
            "\n",
            "<__main__.Wish object at 0x7e3cfd80c050>\n",
            "Good Morning geeta\n",
            "\n"
          ]
        }
      ]
    },
    {
      "cell_type": "markdown",
      "source": [
        "**Note:** self is a convention not a python keyword,any convention can be used but its always the first argument"
      ],
      "metadata": {
        "id": "pq1ZO1kT010r"
      }
    },
    {
      "cell_type": "markdown",
      "source": [
        "Example to show different naming convention other than self"
      ],
      "metadata": {
        "id": "tRoXxSMH1RMX"
      }
    },
    {
      "cell_type": "code",
      "source": [
        "class greet():\n",
        "  def __init__(donut,name):\n",
        "    print(donut)\n",
        "    print(\"Good Morning\",name)\n",
        "\n",
        "a=greet(\"Bob\")\n",
        "b=greet(\"jack\")\n",
        "c=greet(\"Alice\")\n"
      ],
      "metadata": {
        "colab": {
          "base_uri": "https://localhost:8080/"
        },
        "id": "NZ_hE76h1bg3",
        "outputId": "0333316c-76ff-41a2-fada-6b7d45911913"
      },
      "execution_count": 34,
      "outputs": [
        {
          "output_type": "stream",
          "name": "stdout",
          "text": [
            "<__main__.greet object at 0x7e3cfd817a10>\n",
            "Good Morning Bob\n",
            "<__main__.greet object at 0x7e3cfd83a390>\n",
            "Good Morning jack\n",
            "<__main__.greet object at 0x7e3cfd83b550>\n",
            "Good Morning Alice\n"
          ]
        }
      ]
    },
    {
      "cell_type": "markdown",
      "source": [
        "**Class Variable and Instance Variable**\n",
        "\n",
        "**Class Variable**\n",
        "\n",
        "\n",
        "1.   Class variables are shared by all instance throughout the class\n",
        "2.   Class variables are defined at top of class definition\n",
        "3.   They are often used to store data that are common to all instances of the class\n",
        "\n",
        "\n",
        "\n",
        "\n",
        "\n",
        "\n"
      ],
      "metadata": {
        "id": "AVlGv6yE2qLl"
      }
    },
    {
      "cell_type": "markdown",
      "source": [
        "**Instance Class**"
      ],
      "metadata": {
        "id": "FLWuAAdX32JR"
      }
    },
    {
      "cell_type": "markdown",
      "source": [
        "\n",
        "\n",
        "1.   Instance Variable are defined within the method,especially using __init__() and passing self as first argument\n",
        "2.   Instance Variable are specific to each instance of the class\n",
        "\n"
      ],
      "metadata": {
        "id": "AiF-4GaL37MY"
      }
    },
    {
      "cell_type": "code",
      "source": [
        "class Electronics:\n",
        "  #Class Variable\n",
        "  role=\"Laptop\"\n",
        "\n",
        "  def __init__(self,brand):\n",
        "    self.brand=brand\n",
        "\n",
        "a=Electronics(\"DELL\")\n",
        "b=Electronics(\"HP\")\n",
        "\n",
        "print(\"Class Variable:\",Electronics.role)\n",
        "print(\"Class Variable:\",a.role)\n",
        "print(\"Class Variable:\",b.role)\n",
        "print(\"Instance Variable:\",a.brand)\n",
        "print(\"Instance Variable:\",b.brand)"
      ],
      "metadata": {
        "colab": {
          "base_uri": "https://localhost:8080/"
        },
        "id": "5974lKl50i6j",
        "outputId": "7a87da80-1509-4156-f629-a80da17fca0b"
      },
      "execution_count": 63,
      "outputs": [
        {
          "output_type": "stream",
          "name": "stdout",
          "text": [
            "Class Variable: Laptop\n",
            "Class Variable: Laptop\n",
            "Class Variable: Laptop\n",
            "Instance Variable: DELL\n",
            "Instance Variable: HP\n"
          ]
        }
      ]
    },
    {
      "cell_type": "code",
      "source": [
        "class person():\n",
        "  def __init__(self,name):\n",
        "    self.name=name\n",
        "    print(\"Jack\")\n",
        "\n",
        "p1=person(\"Asif\")\n",
        "print(p1.name)\n"
      ],
      "metadata": {
        "colab": {
          "base_uri": "https://localhost:8080/"
        },
        "id": "-zVSBdsV7KkJ",
        "outputId": "53f3f354-0a4f-4cbc-8cc9-55a3a008f1a2"
      },
      "execution_count": 79,
      "outputs": [
        {
          "output_type": "stream",
          "name": "stdout",
          "text": [
            "Jack\n",
            "Asif\n"
          ]
        }
      ]
    },
    {
      "cell_type": "code",
      "source": [
        "class Agent:\n",
        "  def __init__(self,name,age):\n",
        "    print(\"Welcome to the game\")\n",
        "    self.name=name\n",
        "    self.age=age\n",
        "    self.health=100\n",
        "    self.alive=True\n",
        "\n",
        "\n",
        "  def health(self):\n",
        "    print(\"Current health of the player\",name,\"is\",self.health)\n",
        "\n",
        "  def punch(self):\n",
        "    self.health-=10\n",
        "\n",
        "  def shoot(self):\n",
        "    self.health-=50\n",
        "\n",
        "  def isalive(self):\n",
        "    if self.health>=100:\n",
        "      self.alive=False\n",
        "\n",
        "  def info(self):\n",
        "    print(\"Name:\",name)\n",
        "    print(\"Age:\",age)\n",
        "\n",
        "\n",
        "p1=Agent(\"Asif\",23)\n",
        "p1.alive\n",
        "p1.health\n",
        "\n"
      ],
      "metadata": {
        "colab": {
          "base_uri": "https://localhost:8080/"
        },
        "id": "UECWQYza_FPb",
        "outputId": "96462b0e-2e37-40c9-c81c-775c6fa5d052"
      },
      "execution_count": 99,
      "outputs": [
        {
          "output_type": "stream",
          "name": "stdout",
          "text": [
            "Welcome to the game\n"
          ]
        },
        {
          "output_type": "execute_result",
          "data": {
            "text/plain": [
              "100"
            ]
          },
          "metadata": {},
          "execution_count": 99
        }
      ]
    },
    {
      "cell_type": "code",
      "source": [
        "class Agent:\n",
        "    def __init__(self, name, age):\n",
        "        print(\"Welcome to the game\")\n",
        "        self.name = name\n",
        "        self.age = age\n",
        "        self.health = 100\n",
        "        self.alive = True\n",
        "\n",
        "    def show_health(self):\n",
        "        print(\"Current health of the player\", self.name, \"is\", self.health)\n",
        "\n",
        "    def punch(self):\n",
        "        self.health -= 10\n",
        "        self.check_alive()  # Check if the player is still alive\n",
        "\n",
        "    def shoot(self):\n",
        "        self.health -= 50\n",
        "        self.check_alive()  # Check if the player is still alive\n",
        "\n",
        "    def check_alive(self):\n",
        "        if self.health <= 0:\n",
        "            self.alive = False\n",
        "\n",
        "    def info(self):\n",
        "        print(\"Name:\", self.name)\n",
        "        print(\"Age:\", self.age)\n",
        "\n",
        "\n",
        "# Creating an Agent object\n",
        "p1 = Agent(\"Asif\", 23)\n",
        "\n",
        "print(p1.alive)  # True\n",
        "print(p1.health)  # 100\n",
        "p1.info()  # Calls the info method properly\n",
        "\n",
        "# Testing damage\n",
        "p1.punch()\n",
        "print(p1.health)  # 90\n",
        "\n",
        "p1.shoot()\n",
        "print(p1.health)  # 40\n",
        "\n",
        "p1.shoot()  # Health goes to -10\n",
        "print(p1.alive)  # False\n"
      ],
      "metadata": {
        "colab": {
          "base_uri": "https://localhost:8080/"
        },
        "id": "tFR-_ngBgoXy",
        "outputId": "f3ecfc72-2b35-4f55-c363-739656f383bb"
      },
      "execution_count": 138,
      "outputs": [
        {
          "output_type": "stream",
          "name": "stdout",
          "text": [
            "Welcome to the game\n",
            "True\n",
            "100\n",
            "Name: Asif\n",
            "Age: 23\n",
            "90\n",
            "40\n",
            "False\n"
          ]
        }
      ]
    },
    {
      "cell_type": "code",
      "source": [
        "class Agent:\n",
        "  def __init__(self,name,age):\n",
        "    print(\"WElcome to the Game\")\n",
        "    self.name=name\n",
        "    self.age=age\n",
        "    self.health=100\n",
        "    self.alive=True\n",
        "\n",
        "  def curr_health(self):\n",
        "    print(\"Current health of the player\",self.name,\"is\",self.health)\n",
        "\n",
        "  def shoot(self):\n",
        "    self.health-=50\n",
        "\n",
        "  def punch(self):\n",
        "    self.health-=20\n",
        "\n",
        "  def is_alive(self):\n",
        "    if self.health<=0:\n",
        "      self.alive=False\n",
        "\n",
        "  def info(self):\n",
        "    print(\"Name:\",self.name)\n",
        "    print(\"Age:\",self.age)\n",
        "    print(\"Health:\",self.health)\n",
        "\n",
        "#creating an object\n",
        "p1=Agent(\"Asif\",23)\n",
        "\n",
        "p1.info()\n",
        "\n",
        "p1.curr_health()  # Prints current health\n",
        "\n",
        "p1.shoot()  # Reduces health by 50\n",
        "p1.curr_health()  # Check health after shooting\n",
        "\n",
        "p1.punch()  # Reduces health by 20\n",
        "p1.curr_health()  # Check health after punching\n",
        "\n",
        "p1.shoot()  # Another shoot, should reduce health to 0\n",
        "p1.curr_health()\n",
        "print(f\"Is alive? {p1.alive}\")  # Should print False\n"
      ],
      "metadata": {
        "colab": {
          "base_uri": "https://localhost:8080/"
        },
        "id": "rxUutpn-idAB",
        "outputId": "d7b788d6-538a-4808-8552-27ed42423286"
      },
      "execution_count": 159,
      "outputs": [
        {
          "output_type": "stream",
          "name": "stdout",
          "text": [
            "WElcome to the Game\n",
            "Name: Asif\n",
            "Age: 23\n",
            "Health: 100\n",
            "Current health of the player Asif is 100\n",
            "Current health of the player Asif is 50\n",
            "Current health of the player Asif is 30\n",
            "Current health of the player Asif is -20\n",
            "Is alive? True\n"
          ]
        }
      ]
    },
    {
      "cell_type": "code",
      "source": [
        "class Agent:\n",
        "  def __init__(self,name,age):\n",
        "    print(\"welcome to the game\")\n",
        "    self.name=name\n",
        "    self.age=23\n",
        "    self.health=100\n",
        "    self.rank=1\n",
        "\n",
        "\n",
        "  def cur_health():\n",
        "    print(\"the health of the player is\",self.name,\"is\",self.health)\n",
        "\n",
        "#creating the object p1\n",
        "p5=Agent(\"Asif\",23)\n",
        "p5.name\n"
      ],
      "metadata": {
        "colab": {
          "base_uri": "https://localhost:8080/",
          "height": 53
        },
        "id": "MjAaOgoykV13",
        "outputId": "4e2f8d08-61ed-4db9-f6c4-919d3d1554af"
      },
      "execution_count": 170,
      "outputs": [
        {
          "output_type": "stream",
          "name": "stdout",
          "text": [
            "welcome to the game\n"
          ]
        },
        {
          "output_type": "execute_result",
          "data": {
            "text/plain": [
              "'Asif'"
            ],
            "application/vnd.google.colaboratory.intrinsic+json": {
              "type": "string"
            }
          },
          "metadata": {},
          "execution_count": 170
        }
      ]
    },
    {
      "cell_type": "markdown",
      "source": [
        "**Inheritance**"
      ],
      "metadata": {
        "id": "lUZ2y0Z387lS"
      }
    },
    {
      "cell_type": "markdown",
      "source": [
        "Inheritance is a fundamental concept in oops that allows you to create new class(derived class) to inherit the attributes and methods from existing class(base class)"
      ],
      "metadata": {
        "id": "CCdIh2Bl9Y1T"
      }
    },
    {
      "cell_type": "code",
      "source": [
        "class vehicle:\n",
        "  def __init__(self,wheels):\n",
        "    self.wheels=wheels\n",
        "\n",
        "  def move(self):\n",
        "    print(\"the vehicle is moving\")\n",
        "\n",
        "  def speed_limit(self):\n",
        "    print(\"the speed limit is 60kmph\")\n",
        "\n",
        "class bike(vehicle):\n",
        "  pass\n",
        "\n",
        "#Creating an Object\n",
        "b1=bike(2)\n",
        "b1.move()\n",
        "b1.wheels"
      ],
      "metadata": {
        "colab": {
          "base_uri": "https://localhost:8080/"
        },
        "id": "aeGaWzrA7yX8",
        "outputId": "3741d70e-d285-44a4-bc25-ce91f00328d4"
      },
      "execution_count": 178,
      "outputs": [
        {
          "output_type": "stream",
          "name": "stdout",
          "text": [
            "the vehicle is moving\n"
          ]
        },
        {
          "output_type": "execute_result",
          "data": {
            "text/plain": [
              "2"
            ]
          },
          "metadata": {},
          "execution_count": 178
        }
      ]
    },
    {
      "cell_type": "markdown",
      "source": [
        "**Method Overwritting**"
      ],
      "metadata": {
        "id": "SrFBjd2QGwL4"
      }
    },
    {
      "cell_type": "code",
      "source": [
        "class vehicle:\n",
        "  def __init__(self,wheels):\n",
        "    print(\"the vehicle is moving\")\n",
        "\n",
        "  def move(self):\n",
        "    print(\"the bike is speeding up\")\n",
        "\n",
        "#creating object\n",
        "b1=vehicle(2)\n",
        "b1.move()\n",
        "\n",
        "class bike(vehicle):\n",
        "  def move(self):\n",
        "    print(\"the bike is slowing down\")\n",
        "#creating object\n",
        "b2=bike(2)\n",
        "b2.move()"
      ],
      "metadata": {
        "colab": {
          "base_uri": "https://localhost:8080/"
        },
        "id": "kiLf7Cn595zO",
        "outputId": "475e194f-bbfa-4670-d7f7-029fd87e30cf"
      },
      "execution_count": 185,
      "outputs": [
        {
          "output_type": "stream",
          "name": "stdout",
          "text": [
            "the vehicle is moving\n",
            "the bike is speeding up\n",
            "the vehicle is moving\n",
            "the bike is slowing down\n"
          ]
        }
      ]
    },
    {
      "cell_type": "markdown",
      "source": [
        "In the example 1 Vehicle class has attribute wheels and method move, Bike class inherit from the parent class Vehicle\n",
        "The derived class don't has its own __ init __, hence it uses the parents __ init __\n",
        "\n",
        "\n",
        "**Method Overriding :** Providing specific implementation for a method in child class that is already defined in the parent class/superclass.\n",
        "\n",
        "move method has been overridden in above example."
      ],
      "metadata": {
        "id": "934BcQA9Ky1b"
      }
    },
    {
      "cell_type": "markdown",
      "source": [
        "**Example 3**"
      ],
      "metadata": {
        "id": "WgzGakJaK_l5"
      }
    },
    {
      "cell_type": "code",
      "source": [
        "class parents:\n",
        "  def __init__(self,name):\n",
        "    self.name=name\n",
        "\n",
        "class Child(parents):\n",
        "  def __init__(self,name,age):\n",
        "    self.age=age\n",
        "\n",
        "  def details(self):\n",
        "    print(f\"age:,{self.age}\")\n",
        "    print(f\"name: {self.name}\")\n",
        "\n",
        "child = Child(name=\"John\", age=25)\n",
        "child.details()"
      ],
      "metadata": {
        "colab": {
          "base_uri": "https://localhost:8080/",
          "height": 315
        },
        "id": "sEIjETGvK9_r",
        "outputId": "c4d8df12-6e4e-4465-f23a-2c907232ab24"
      },
      "execution_count": 187,
      "outputs": [
        {
          "output_type": "stream",
          "name": "stdout",
          "text": [
            "age:,25\n"
          ]
        },
        {
          "output_type": "error",
          "ename": "AttributeError",
          "evalue": "'Child' object has no attribute 'name'",
          "traceback": [
            "\u001b[0;31m---------------------------------------------------------------------------\u001b[0m",
            "\u001b[0;31mAttributeError\u001b[0m                            Traceback (most recent call last)",
            "\u001b[0;32m<ipython-input-187-0df35d5e9a2b>\u001b[0m in \u001b[0;36m<cell line: 0>\u001b[0;34m()\u001b[0m\n\u001b[1;32m     12\u001b[0m \u001b[0;34m\u001b[0m\u001b[0m\n\u001b[1;32m     13\u001b[0m \u001b[0mchild\u001b[0m \u001b[0;34m=\u001b[0m \u001b[0mChild\u001b[0m\u001b[0;34m(\u001b[0m\u001b[0mname\u001b[0m\u001b[0;34m=\u001b[0m\u001b[0;34m\"John\"\u001b[0m\u001b[0;34m,\u001b[0m \u001b[0mage\u001b[0m\u001b[0;34m=\u001b[0m\u001b[0;36m25\u001b[0m\u001b[0;34m)\u001b[0m\u001b[0;34m\u001b[0m\u001b[0;34m\u001b[0m\u001b[0m\n\u001b[0;32m---> 14\u001b[0;31m \u001b[0mchild\u001b[0m\u001b[0;34m.\u001b[0m\u001b[0mdetails\u001b[0m\u001b[0;34m(\u001b[0m\u001b[0;34m)\u001b[0m\u001b[0;34m\u001b[0m\u001b[0;34m\u001b[0m\u001b[0m\n\u001b[0m",
            "\u001b[0;32m<ipython-input-187-0df35d5e9a2b>\u001b[0m in \u001b[0;36mdetails\u001b[0;34m(self)\u001b[0m\n\u001b[1;32m      9\u001b[0m   \u001b[0;32mdef\u001b[0m \u001b[0mdetails\u001b[0m\u001b[0;34m(\u001b[0m\u001b[0mself\u001b[0m\u001b[0;34m)\u001b[0m\u001b[0;34m:\u001b[0m\u001b[0;34m\u001b[0m\u001b[0;34m\u001b[0m\u001b[0m\n\u001b[1;32m     10\u001b[0m     \u001b[0mprint\u001b[0m\u001b[0;34m(\u001b[0m\u001b[0;34mf\"age:,{self.age}\"\u001b[0m\u001b[0;34m)\u001b[0m\u001b[0;34m\u001b[0m\u001b[0;34m\u001b[0m\u001b[0m\n\u001b[0;32m---> 11\u001b[0;31m     \u001b[0mprint\u001b[0m\u001b[0;34m(\u001b[0m\u001b[0;34mf\"name: {self.name}\"\u001b[0m\u001b[0;34m)\u001b[0m\u001b[0;34m\u001b[0m\u001b[0;34m\u001b[0m\u001b[0m\n\u001b[0m\u001b[1;32m     12\u001b[0m \u001b[0;34m\u001b[0m\u001b[0m\n\u001b[1;32m     13\u001b[0m \u001b[0mchild\u001b[0m \u001b[0;34m=\u001b[0m \u001b[0mChild\u001b[0m\u001b[0;34m(\u001b[0m\u001b[0mname\u001b[0m\u001b[0;34m=\u001b[0m\u001b[0;34m\"John\"\u001b[0m\u001b[0;34m,\u001b[0m \u001b[0mage\u001b[0m\u001b[0;34m=\u001b[0m\u001b[0;36m25\u001b[0m\u001b[0;34m)\u001b[0m\u001b[0;34m\u001b[0m\u001b[0;34m\u001b[0m\u001b[0m\n",
            "\u001b[0;31mAttributeError\u001b[0m: 'Child' object has no attribute 'name'"
          ]
        }
      ]
    },
    {
      "cell_type": "markdown",
      "source": [
        "\n",
        "\n",
        "1.   In the above example __ init __ of the child class overrides the __ init __ of the parent class\n",
        "2.   Hence we need to initialise the parent class constructor so that the child class would be able to access all the properties of it's parent\n",
        "\n"
      ],
      "metadata": {
        "id": "hpLw6OPkL6vQ"
      }
    },
    {
      "cell_type": "code",
      "source": [
        "class parent:\n",
        "  def __init__(self,name):\n",
        "    self.name=name\n",
        "\n",
        "class Child(parent):\n",
        "  def __init__(self,name,age):\n",
        "    parent.__init__(self, name)\n",
        "    self.age=age\n",
        "\n",
        "  def details(self):\n",
        "    print(\"age:\",self.age)\n",
        "    print(\"name:\",self.name)\n",
        "\n",
        "child = Child(name=\"John\", age=25)\n",
        "child.details()\n",
        "\n"
      ],
      "metadata": {
        "colab": {
          "base_uri": "https://localhost:8080/"
        },
        "id": "-7VzQyU8Lzyg",
        "outputId": "8e463804-a2d1-4e0f-992f-985d3993e7ce"
      },
      "execution_count": 196,
      "outputs": [
        {
          "output_type": "stream",
          "name": "stdout",
          "text": [
            "age: 25\n",
            "name: John\n"
          ]
        }
      ]
    },
    {
      "cell_type": "code",
      "source": [],
      "metadata": {
        "id": "vU0j41HcMu9E"
      },
      "execution_count": null,
      "outputs": []
    }
  ]
}