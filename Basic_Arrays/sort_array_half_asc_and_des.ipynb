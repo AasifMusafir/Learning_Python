{
 "cells": [
  {
   "cell_type": "code",
   "execution_count": 11,
   "id": "2e88a439",
   "metadata": {},
   "outputs": [
    {
     "name": "stdout",
     "output_type": "stream",
     "text": [
      "1 23 222 45 "
     ]
    }
   ],
   "source": [
    "def asc(a,n):\n",
    "    a.sort()\n",
    "    \n",
    "    i=0\n",
    "    while i<n//2:\n",
    "        print(a[i],end=\" \")\n",
    "        i+=1\n",
    "    j=n-1 \n",
    "    while j>=n//2:\n",
    "        print(a[j],end=\" \")\n",
    "        j-=1\n",
    "        \n",
    "a=[1,45,222,23]\n",
    "asc(a,len(a))        "
   ]
  },
  {
   "cell_type": "code",
   "execution_count": null,
   "id": "7d80d8b7",
   "metadata": {},
   "outputs": [],
   "source": []
  }
 ],
 "metadata": {
  "kernelspec": {
   "display_name": "base",
   "language": "python",
   "name": "python3"
  },
  "language_info": {
   "codemirror_mode": {
    "name": "ipython",
    "version": 3
   },
   "file_extension": ".py",
   "mimetype": "text/x-python",
   "name": "python",
   "nbconvert_exporter": "python",
   "pygments_lexer": "ipython3",
   "version": "3.9.13"
  }
 },
 "nbformat": 4,
 "nbformat_minor": 5
}
